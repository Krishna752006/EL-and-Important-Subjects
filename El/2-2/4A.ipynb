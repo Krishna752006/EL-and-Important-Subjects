{
 "cells": [
  {
   "cell_type": "markdown",
   "metadata": {
    "tags": []
   },
   "source": [
    "# Predicting the next word from DataFrame using LSTM in PyTorch\n",
    "In this exercise we will build and train aLSTM Network to predict the next word based on sample data."
   ]
  },
  {
   "cell_type": "raw",
   "metadata": {},
   "source": [
    "To build an LSTM model for word prediction using PyTorch, follow these steps:\n",
    "\n",
    "1. Data Preparation\n",
    "    1.Import Necessary libraries\n",
    "    2.Create a DataFrame with sample text.\n",
    "    3.Preprocess the data:\n",
    "       1.tokenize the text, removing punctuation and converting all text to lowercase.\n",
    "       2. convert to word embeddings-vector representation of words\n",
    "       3. Prepare the sequences for the LSTM.\n",
    "       4. convert to pytorch tensors\n",
    "2. Define the LSTM Model\n",
    "    1.Use nn.LSTM/nn.GRU from PyTorch.\n",
    "    2.Initialize the model-Include input size, hidden size, vocabulary size.\n",
    "3. Training the Model\n",
    "    1.Define a loss function, e.g., Cross Entropy Loss.\n",
    "    2.Use an optimizer like Adam.\n",
    "    3.Train the model over multiple epochs.\n",
    "4. Evaluate the Model\n",
    "    1.Test the model - interactive testing.\n",
    "    "
   ]
  },
  {
   "cell_type": "markdown",
   "metadata": {},
   "source": [
    "# 1.Data Preparation"
   ]
  },
  {
   "cell_type": "markdown",
   "metadata": {},
   "source": [
    "## 1.Import necessary Libraries"
   ]
  },
  {
   "cell_type": "code",
   "execution_count": 3,
   "metadata": {
    "id": "YfyRBvFZGiMw"
   },
   "outputs": [],
   "source": [
    "# Import necessary libraries\n",
    "import pandas as pd\n",
    "import numpy as np\n",
    "import re\n",
    "import torch\n",
    "import torch.nn as nn\n",
    "import torch.optim as optim\n",
    "from gensim.models import Word2Vec"
   ]
  },
  {
   "cell_type": "markdown",
   "metadata": {},
   "source": [
    "# 2.Create a DataFrame with sample text"
   ]
  },
  {
   "cell_type": "code",
   "execution_count": 4,
   "metadata": {
    "id": "ItUE6jYVG2Wn"
   },
   "outputs": [],
   "source": [
    "# Step 1: Create an example dataset\n",
    "data = {\n",
    "    \"text\": [\n",
    "        \"The movie was fantastic and very engaging\",\n",
    "        \"I hated the acting and the storyline\",\n",
    "        \"It was boring and lacked depth\",\n",
    "        \"Amazing performance by the actors and great direction\",\n",
    "        \"Not worth watching at all\",\n",
    "        \"One of the best movies I have ever seen\"\n",
    "    ]\n",
    "}\n",
    "\n",
    "# Create a DataFrame from the dataset\n",
    "df = pd.DataFrame(data)\n"
   ]
  },
  {
   "cell_type": "markdown",
   "metadata": {},
   "source": [
    "# 3.Preprocess the data"
   ]
  },
  {
   "cell_type": "markdown",
   "metadata": {},
   "source": [
    "# Step 1: Tokenize the text"
   ]
  },
  {
   "cell_type": "code",
   "execution_count": 5,
   "metadata": {
    "id": "Vea28q-EG66e"
   },
   "outputs": [],
   "source": [
    "# Step 1: Define a function to tokenize the text\n",
    "def tokenize(text):\n",
    "    return re.findall(r'\\b\\w+\\b', text.lower())\n",
    "# Apply the tokenization function to the text column\n",
    "df['tokens'] = df['text'].apply(tokenize)\n"
   ]
  },
  {
   "cell_type": "markdown",
   "metadata": {},
   "source": [
    "# step-2: word embeddings"
   ]
  },
  {
   "cell_type": "code",
   "execution_count": 6,
   "metadata": {
    "id": "MdJ7aaI8G_H2"
   },
   "outputs": [],
   "source": [
    "# Step 2: Train a Word2Vec model on the tokenized sentences\n",
    "word2vec_model = Word2Vec(sentences=df['tokens'], vector_size=50, window=3, min_count=1)"
   ]
  },
  {
   "cell_type": "markdown",
   "metadata": {},
   "source": [
    "## Step 3: Prepare the sequences"
   ]
  },
  {
   "cell_type": "code",
   "execution_count": 7,
   "metadata": {
    "id": "Pum4r6ZXHIjv"
   },
   "outputs": [],
   "source": [
    "# Step 3: Prepare dataset for word prediction\n",
    "def prepare_sequences(tokens, model, context_size=3):\n",
    "    X, y = [], []\n",
    "    for i in range(len(tokens) - context_size):\n",
    "        # Context words\n",
    "        context = tokens[i:i + context_size]\n",
    "        # Target word\n",
    "        target = tokens[i + context_size]\n",
    "        X.append([model.wv[word] for word in context])\n",
    "        y.append(model.wv.key_to_index[target])  # Index of the target word in vocabulary\n",
    "    return np.array(X), np.array(y)"
   ]
  },
  {
   "cell_type": "code",
   "execution_count": 8,
   "metadata": {
    "id": "hyamphaqHOZY"
   },
   "outputs": [],
   "source": [
    "# Create sequences for all rows in the dataset\n",
    "context_size = 3\n",
    "X, y = [], []\n",
    "for tokens in df['tokens']:\n",
    "    X_seq, y_seq = prepare_sequences(tokens, word2vec_model, context_size)\n",
    "    X.extend(X_seq)\n",
    "    y.extend(y_seq)\n",
    "\n",
    "X, y = np.array(X), np.array(y)"
   ]
  },
  {
   "cell_type": "markdown",
   "metadata": {},
   "source": [
    "# Step 4: Convert to pytorch tensors"
   ]
  },
  {
   "cell_type": "code",
   "execution_count": 9,
   "metadata": {},
   "outputs": [],
   "source": [
    "# Step 4: Convert data to PyTorch tensors\n",
    "X_tensor = torch.tensor(X, dtype=torch.float32)\n",
    "y_tensor = torch.tensor(y, dtype=torch.long)"
   ]
  },
  {
   "cell_type": "markdown",
   "metadata": {},
   "source": [
    "# 2.LSTM Model Building"
   ]
  },
  {
   "cell_type": "markdown",
   "metadata": {},
   "source": [
    "# Step 1 Define the LSTM model"
   ]
  },
  {
   "cell_type": "code",
   "execution_count": 10,
   "metadata": {},
   "outputs": [],
   "source": [
    "# Step 1: Define the LSTM model for word prediction\n",
    "class WordPredictionLSTM(nn.Module):\n",
    "    def __init__(self, input_size, hidden_size, vocab_size):\n",
    "        super(WordPredictionLSTM, self).__init__()\n",
    "        self.lstm = nn.LSTM(input_size, hidden_size, batch_first=True)\n",
    "        self.fc = nn.Linear(hidden_size, vocab_size)\n",
    "\n",
    "    def forward(self, x):\n",
    "        _, (hidden, _) = self.lstm(x)  # Get the hidden state from LSTM\n",
    "        out = self.fc(hidden[-1])  # Pass hidden state through a fully connected layer\n",
    "        return out"
   ]
  },
  {
   "cell_type": "markdown",
   "metadata": {},
   "source": [
    "# step-2:Intialize the model parameters"
   ]
  },
  {
   "cell_type": "code",
   "execution_count": 11,
   "metadata": {
    "id": "5CIqdGdbHSqz"
   },
   "outputs": [],
   "source": [
    "\n",
    "# Step 2: Initialize the model\n",
    "input_size = 50  # Size of the word vector\n",
    "hidden_size = 64  # Number of hidden units in LSTM\n",
    "vocab_size = len(word2vec_model.wv)  # Vocabulary size\n"
   ]
  },
  {
   "cell_type": "markdown",
   "metadata": {},
   "source": [
    "# step-2: Initialize model, loss function and optimizer"
   ]
  },
  {
   "cell_type": "code",
   "execution_count": 12,
   "metadata": {
    "id": "9DP9YfUwHa4s"
   },
   "outputs": [],
   "source": [
    "# Step 1: Define loss function and optimizer\n",
    "model = WordPredictionLSTM(input_size, hidden_size, vocab_size)\n",
    "criterion = nn.CrossEntropyLoss()\n",
    "optimizer = optim.Adam(model.parameters(), lr=0.01)"
   ]
  },
  {
   "cell_type": "markdown",
   "metadata": {},
   "source": [
    "# 3. Training the model"
   ]
  },
  {
   "cell_type": "markdown",
   "metadata": {},
   "source": [
    "# step-1: Train the model over multiple epochs"
   ]
  },
  {
   "cell_type": "code",
   "execution_count": 13,
   "metadata": {
    "id": "aLKtF1rsHeWk"
   },
   "outputs": [
    {
     "name": "stderr",
     "output_type": "stream",
     "text": [
      "[NVSHARE][WARN]: Couldn't open file /var/run/secrets/kubernetes.io/serviceaccount/namespace to read Pod namespace\n",
      "[NVSHARE][INFO]: Successfully initialized nvshare GPU\n",
      "[NVSHARE][INFO]: Client ID = 2d65622af6a7abc4\n"
     ]
    },
    {
     "name": "stdout",
     "output_type": "stream",
     "text": [
      "Epoch 1/200, Loss: 3.5035\n",
      "Epoch 2/200, Loss: 3.4621\n",
      "Epoch 3/200, Loss: 3.4228\n",
      "Epoch 4/200, Loss: 3.3779\n",
      "Epoch 5/200, Loss: 3.3218\n",
      "Epoch 6/200, Loss: 3.2512\n",
      "Epoch 7/200, Loss: 3.1680\n",
      "Epoch 8/200, Loss: 3.0806\n",
      "Epoch 9/200, Loss: 3.0007\n",
      "Epoch 10/200, Loss: 2.9395\n",
      "Epoch 11/200, Loss: 2.9047\n",
      "Epoch 12/200, Loss: 2.8955\n",
      "Epoch 13/200, Loss: 2.9036\n",
      "Epoch 14/200, Loss: 2.9070\n",
      "Epoch 15/200, Loss: 2.8941\n",
      "Epoch 16/200, Loss: 2.8847\n",
      "Epoch 17/200, Loss: 2.8866\n",
      "Epoch 18/200, Loss: 2.8929\n",
      "Epoch 19/200, Loss: 2.8910\n",
      "Epoch 20/200, Loss: 2.8799\n",
      "Epoch 21/200, Loss: 2.8694\n",
      "Epoch 22/200, Loss: 2.8674\n",
      "Epoch 23/200, Loss: 2.8707\n",
      "Epoch 24/200, Loss: 2.8695\n",
      "Epoch 25/200, Loss: 2.8613\n",
      "Epoch 26/200, Loss: 2.8512\n",
      "Epoch 27/200, Loss: 2.8432\n",
      "Epoch 28/200, Loss: 2.8372\n",
      "Epoch 29/200, Loss: 2.8310\n",
      "Epoch 30/200, Loss: 2.8219\n",
      "Epoch 31/200, Loss: 2.8084\n",
      "Epoch 32/200, Loss: 2.7911\n",
      "Epoch 33/200, Loss: 2.7715\n",
      "Epoch 34/200, Loss: 2.7498\n",
      "Epoch 35/200, Loss: 2.7243\n",
      "Epoch 36/200, Loss: 2.6925\n",
      "Epoch 37/200, Loss: 2.6519\n",
      "Epoch 38/200, Loss: 2.6022\n",
      "Epoch 39/200, Loss: 2.5445\n",
      "Epoch 40/200, Loss: 2.4785\n",
      "Epoch 41/200, Loss: 2.4048\n",
      "Epoch 42/200, Loss: 2.3274\n",
      "Epoch 43/200, Loss: 2.2642\n",
      "Epoch 44/200, Loss: 2.1759\n",
      "Epoch 45/200, Loss: 2.0798\n",
      "Epoch 46/200, Loss: 2.0184\n",
      "Epoch 47/200, Loss: 1.9040\n",
      "Epoch 48/200, Loss: 1.8293\n",
      "Epoch 49/200, Loss: 1.7277\n",
      "Epoch 50/200, Loss: 1.6332\n",
      "Epoch 51/200, Loss: 1.5460\n",
      "Epoch 52/200, Loss: 1.4412\n",
      "Epoch 53/200, Loss: 1.3649\n",
      "Epoch 54/200, Loss: 1.2637\n",
      "Epoch 55/200, Loss: 1.1887\n",
      "Epoch 56/200, Loss: 1.1042\n",
      "Epoch 57/200, Loss: 1.0269\n",
      "Epoch 58/200, Loss: 0.9576\n",
      "Epoch 59/200, Loss: 0.8821\n",
      "Epoch 60/200, Loss: 0.8230\n",
      "Epoch 61/200, Loss: 0.7537\n",
      "Epoch 62/200, Loss: 0.6987\n",
      "Epoch 63/200, Loss: 0.6377\n",
      "Epoch 64/200, Loss: 0.5856\n",
      "Epoch 65/200, Loss: 0.5327\n",
      "Epoch 66/200, Loss: 0.4860\n",
      "Epoch 67/200, Loss: 0.4414\n",
      "Epoch 68/200, Loss: 0.4006\n",
      "Epoch 69/200, Loss: 0.3625\n",
      "Epoch 70/200, Loss: 0.3292\n",
      "Epoch 71/200, Loss: 0.2982\n",
      "Epoch 72/200, Loss: 0.2715\n",
      "Epoch 73/200, Loss: 0.2460\n",
      "Epoch 74/200, Loss: 0.2250\n",
      "Epoch 75/200, Loss: 0.2047\n",
      "Epoch 76/200, Loss: 0.1876\n",
      "Epoch 77/200, Loss: 0.1717\n",
      "Epoch 78/200, Loss: 0.1574\n",
      "Epoch 79/200, Loss: 0.1450\n",
      "Epoch 80/200, Loss: 0.1330\n",
      "Epoch 81/200, Loss: 0.1232\n",
      "Epoch 82/200, Loss: 0.1133\n",
      "Epoch 83/200, Loss: 0.1050\n",
      "Epoch 84/200, Loss: 0.0971\n",
      "Epoch 85/200, Loss: 0.0900\n",
      "Epoch 86/200, Loss: 0.0837\n",
      "Epoch 87/200, Loss: 0.0776\n",
      "Epoch 88/200, Loss: 0.0723\n",
      "Epoch 89/200, Loss: 0.0673\n",
      "Epoch 90/200, Loss: 0.0628\n",
      "Epoch 91/200, Loss: 0.0586\n",
      "Epoch 92/200, Loss: 0.0547\n",
      "Epoch 93/200, Loss: 0.0512\n",
      "Epoch 94/200, Loss: 0.0479\n",
      "Epoch 95/200, Loss: 0.0448\n",
      "Epoch 96/200, Loss: 0.0421\n",
      "Epoch 97/200, Loss: 0.0395\n",
      "Epoch 98/200, Loss: 0.0371\n",
      "Epoch 99/200, Loss: 0.0350\n",
      "Epoch 100/200, Loss: 0.0330\n",
      "Epoch 101/200, Loss: 0.0311\n",
      "Epoch 102/200, Loss: 0.0294\n",
      "Epoch 103/200, Loss: 0.0278\n",
      "Epoch 104/200, Loss: 0.0263\n",
      "Epoch 105/200, Loss: 0.0250\n",
      "Epoch 106/200, Loss: 0.0237\n",
      "Epoch 107/200, Loss: 0.0225\n",
      "Epoch 108/200, Loss: 0.0214\n",
      "Epoch 109/200, Loss: 0.0204\n",
      "Epoch 110/200, Loss: 0.0194\n",
      "Epoch 111/200, Loss: 0.0185\n",
      "Epoch 112/200, Loss: 0.0177\n",
      "Epoch 113/200, Loss: 0.0169\n",
      "Epoch 114/200, Loss: 0.0162\n",
      "Epoch 115/200, Loss: 0.0155\n",
      "Epoch 116/200, Loss: 0.0149\n",
      "Epoch 117/200, Loss: 0.0143\n",
      "Epoch 118/200, Loss: 0.0137\n",
      "Epoch 119/200, Loss: 0.0132\n",
      "Epoch 120/200, Loss: 0.0127\n",
      "Epoch 121/200, Loss: 0.0123\n",
      "Epoch 122/200, Loss: 0.0118\n",
      "Epoch 123/200, Loss: 0.0114\n",
      "Epoch 124/200, Loss: 0.0110\n",
      "Epoch 125/200, Loss: 0.0107\n",
      "Epoch 126/200, Loss: 0.0104\n",
      "Epoch 127/200, Loss: 0.0101\n",
      "Epoch 128/200, Loss: 0.0098\n",
      "Epoch 129/200, Loss: 0.0095\n",
      "Epoch 130/200, Loss: 0.0092\n",
      "Epoch 131/200, Loss: 0.0090\n",
      "Epoch 132/200, Loss: 0.0087\n",
      "Epoch 133/200, Loss: 0.0085\n",
      "Epoch 134/200, Loss: 0.0083\n",
      "Epoch 135/200, Loss: 0.0081\n",
      "Epoch 136/200, Loss: 0.0079\n",
      "Epoch 137/200, Loss: 0.0077\n",
      "Epoch 138/200, Loss: 0.0076\n",
      "Epoch 139/200, Loss: 0.0074\n",
      "Epoch 140/200, Loss: 0.0073\n",
      "Epoch 141/200, Loss: 0.0071\n",
      "Epoch 142/200, Loss: 0.0070\n",
      "Epoch 143/200, Loss: 0.0068\n",
      "Epoch 144/200, Loss: 0.0067\n",
      "Epoch 145/200, Loss: 0.0065\n",
      "Epoch 146/200, Loss: 0.0064\n",
      "Epoch 147/200, Loss: 0.0063\n",
      "Epoch 148/200, Loss: 0.0062\n",
      "Epoch 149/200, Loss: 0.0061\n",
      "Epoch 150/200, Loss: 0.0060\n",
      "Epoch 151/200, Loss: 0.0059\n",
      "Epoch 152/200, Loss: 0.0058\n",
      "Epoch 153/200, Loss: 0.0057\n",
      "Epoch 154/200, Loss: 0.0056\n",
      "Epoch 155/200, Loss: 0.0055\n",
      "Epoch 156/200, Loss: 0.0054\n",
      "Epoch 157/200, Loss: 0.0053\n",
      "Epoch 158/200, Loss: 0.0052\n",
      "Epoch 159/200, Loss: 0.0051\n",
      "Epoch 160/200, Loss: 0.0051\n",
      "Epoch 161/200, Loss: 0.0050\n",
      "Epoch 162/200, Loss: 0.0049\n",
      "Epoch 163/200, Loss: 0.0048\n",
      "Epoch 164/200, Loss: 0.0048\n",
      "Epoch 165/200, Loss: 0.0047\n",
      "Epoch 166/200, Loss: 0.0046\n",
      "Epoch 167/200, Loss: 0.0046\n",
      "Epoch 168/200, Loss: 0.0045\n",
      "Epoch 169/200, Loss: 0.0044\n",
      "Epoch 170/200, Loss: 0.0044\n",
      "Epoch 171/200, Loss: 0.0043\n",
      "Epoch 172/200, Loss: 0.0043\n",
      "Epoch 173/200, Loss: 0.0042\n",
      "Epoch 174/200, Loss: 0.0042\n",
      "Epoch 175/200, Loss: 0.0041\n",
      "Epoch 176/200, Loss: 0.0040\n",
      "Epoch 177/200, Loss: 0.0040\n",
      "Epoch 178/200, Loss: 0.0039\n",
      "Epoch 179/200, Loss: 0.0039\n",
      "Epoch 180/200, Loss: 0.0038\n",
      "Epoch 181/200, Loss: 0.0038\n",
      "Epoch 182/200, Loss: 0.0038\n",
      "Epoch 183/200, Loss: 0.0037\n",
      "Epoch 184/200, Loss: 0.0037\n",
      "Epoch 185/200, Loss: 0.0036\n",
      "Epoch 186/200, Loss: 0.0036\n",
      "Epoch 187/200, Loss: 0.0035\n",
      "Epoch 188/200, Loss: 0.0035\n",
      "Epoch 189/200, Loss: 0.0035\n",
      "Epoch 190/200, Loss: 0.0034\n",
      "Epoch 191/200, Loss: 0.0034\n",
      "Epoch 192/200, Loss: 0.0034\n",
      "Epoch 193/200, Loss: 0.0033\n",
      "Epoch 194/200, Loss: 0.0033\n",
      "Epoch 195/200, Loss: 0.0032\n",
      "Epoch 196/200, Loss: 0.0032\n",
      "Epoch 197/200, Loss: 0.0032\n",
      "Epoch 198/200, Loss: 0.0031\n",
      "Epoch 199/200, Loss: 0.0031\n",
      "Epoch 200/200, Loss: 0.0031\n"
     ]
    }
   ],
   "source": [
    "# Step 2: Training loop\n",
    "num_epochs = 200  # Number of epochs for training\n",
    "for epoch in range(num_epochs):\n",
    "    model.train()  # Set the model to training mode\n",
    "    optimizer.zero_grad()  # Reset gradients\n",
    "\n",
    "    # Forward pass\n",
    "    outputs = model(X_tensor)  # Get model predictions\n",
    "    loss = criterion(outputs, y_tensor)  # Calculate loss\n",
    "\n",
    "    # Backward pass and optimization\n",
    "    loss.backward()  # Backpropagation\n",
    "    optimizer.step()  # Update model parameters\n",
    "\n",
    "    print(f\"Epoch {epoch+1}/{num_epochs}, Loss: {loss.item():.4f}\")"
   ]
  },
  {
   "cell_type": "markdown",
   "metadata": {},
   "source": [
    "# 4.Evaluate the model"
   ]
  },
  {
   "cell_type": "code",
   "execution_count": 14,
   "metadata": {
    "id": "KnzLiv6cHfJM"
   },
   "outputs": [],
   "source": [
    "# Step 1: Prediction function for next word\n",
    "def predict_next_word(context, model, word2vec_model, context_size=3):\n",
    "    # Tokenize the input context\n",
    "    tokens = tokenize(context)\n",
    "    if len(tokens) < context_size:\n",
    "        raise ValueError(f\"Context must have at least {context_size} words\")\n",
    "    tokens = tokens[-context_size:]  # Use only the last `context_size` words\n",
    "\n",
    "    # Convert tokens to vectors\n",
    "    vectors = [word2vec_model.wv[word] for word in tokens]\n",
    "\n",
    "    # Convert to PyTorch tensor and add batch dimension\n",
    "    input_tensor = torch.tensor([vectors], dtype=torch.float32)  # Shape: (1, context_size, input_size)\n",
    "\n",
    "    # Set the model to evaluation mode\n",
    "    model.eval()\n",
    "\n",
    "    # Make prediction\n",
    "    with torch.no_grad():\n",
    "        output = model(input_tensor)  # Get model predictions\n",
    "        predicted_index = torch.argmax(output, dim=1).item()  # Get the index of the maximum value (class)\n",
    "\n",
    "    # Convert index back to word\n",
    "    predicted_word = word2vec_model.wv.index_to_key[predicted_index]\n",
    "    return predicted_word"
   ]
  },
  {
   "cell_type": "markdown",
   "metadata": {},
   "source": [
    "# Interactive testing"
   ]
  },
  {
   "cell_type": "code",
   "execution_count": 15,
   "metadata": {
    "id": "e1iXNNlXHoEf"
   },
   "outputs": [],
   "source": [
    "# Interactive Testing Function\n",
    "def interactive_predict(model, word2vec_model, context_size=3):\n",
    "    print(\"\\nInteractive Word Prediction\")\n",
    "    print(\"Enter a context sentence to predict the next word.\")\n",
    "    print(\"Type 'exit' to quit.\\n\")\n",
    "\n",
    "    while True:\n",
    "        context = input(\"Enter context: \")\n",
    "        if context.lower() == 'exit':\n",
    "            print(\"Exiting interactive testing. Goodbye!\")\n",
    "            break\n",
    "\n",
    "        try:\n",
    "            next_word = predict_next_word(context, model, word2vec_model, context_size)\n",
    "            print(f\"Predicted next word: \\\"{next_word}\\\"\")\n",
    "        except ValueError as e:\n",
    "            print(f\"Error: {e}. Ensure the context has at least {context_size} words.\")\n"
   ]
  },
  {
   "cell_type": "code",
   "execution_count": null,
   "metadata": {},
   "outputs": [
    {
     "name": "stdout",
     "output_type": "stream",
     "text": [
      "\n",
      "Interactive Word Prediction\n",
      "Enter a context sentence to predict the next word.\n",
      "Type 'exit' to quit.\n",
      "\n"
     ]
    },
    {
     "name": "stdin",
     "output_type": "stream",
     "text": [
      "Enter context:  the movie was\n"
     ]
    },
    {
     "name": "stderr",
     "output_type": "stream",
     "text": [
      "/tmp/ipykernel_117/3975403416.py:13: UserWarning: Creating a tensor from a list of numpy.ndarrays is extremely slow. Please consider converting the list to a single numpy.ndarray with numpy.array() before converting to a tensor. (Triggered internally at ../torch/csrc/utils/tensor_new.cpp:261.)\n",
      "  input_tensor = torch.tensor([vectors], dtype=torch.float32)  # Shape: (1, context_size, input_size)\n"
     ]
    },
    {
     "name": "stdout",
     "output_type": "stream",
     "text": [
      "Predicted next word: \"fantastic\"\n"
     ]
    },
    {
     "name": "stdin",
     "output_type": "stream",
     "text": [
      "Enter context:  i hated the\n"
     ]
    },
    {
     "name": "stdout",
     "output_type": "stream",
     "text": [
      "Predicted next word: \"acting\"\n"
     ]
    },
    {
     "name": "stdin",
     "output_type": "stream",
     "text": [
      "Enter context:  one of the\n"
     ]
    },
    {
     "name": "stdout",
     "output_type": "stream",
     "text": [
      "Predicted next word: \"best\"\n"
     ]
    }
   ],
   "source": [
    "# Run interactive testing\n",
    "interactive_predict(model, word2vec_model)"
   ]
  },
  {
   "cell_type": "code",
   "execution_count": null,
   "metadata": {},
   "outputs": [],
   "source": []
  }
 ],
 "metadata": {
  "colab": {
   "provenance": []
  },
  "kernelspec": {
   "display_name": "Python 3 (ipykernel)",
   "language": "python",
   "name": "python3"
  },
  "language_info": {
   "codemirror_mode": {
    "name": "ipython",
    "version": 3
   },
   "file_extension": ".py",
   "mimetype": "text/x-python",
   "name": "python",
   "nbconvert_exporter": "python",
   "pygments_lexer": "ipython3",
   "version": "3.9.12"
  },
  "toc-autonumbering": true,
  "toc-showcode": false
 },
 "nbformat": 4,
 "nbformat_minor": 4
}
